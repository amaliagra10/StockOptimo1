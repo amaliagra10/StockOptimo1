{
 "cells": [
  {
   "cell_type": "code",
   "execution_count": null,
   "id": "f11e25ae-dbdb-45bb-9559-6eb65c08b44a",
   "metadata": {},
   "outputs": [],
   "source": [
    "# ANCLAJE CLOUD"
   ]
  },
  {
   "cell_type": "code",
   "execution_count": 15,
   "id": "9403687d-e7a4-4e4e-b609-119d46d0af0f",
   "metadata": {},
   "outputs": [],
   "source": [
    "import pandas as pd\n",
    "from google.cloud import bigquery"
   ]
  },
  {
   "cell_type": "code",
   "execution_count": 17,
   "id": "258cee2a-249c-470d-b332-d439a9f1d992",
   "metadata": {},
   "outputs": [],
   "source": [
    "#DATOS A CARGAR\n",
    "datos_new_data1=[90632,\"xxx-xxx\",10,\"750 ml\",\"750\",1,6,1,\"zzzz-zzzz\"]\n",
    "datos_new_data2=[\"1_HARDERSFIELD_906632\",1,\"HARDERSFIELD\",90632,\"xxx-xxx\",\"750 ML\",4,10,\"2016-01-01\"]\n",
    "datos_new_data3=[\"1_HARDERSFIELD_906632\",1,\"HARDERSFIELD\",90632,\"xxx-xxx\",\"750 ML\",3,10,\"2016-12-31\"]\n",
    "datos_new_data4=[1,\"zzzz-zzzz\",\"2016-12-31\",13662,\"2016-12-31\",\"2016-12-31\",4,24,0.1,\"1\"]\n",
    "datos_new_data5=[\"1_HARDERSFIELD_906632\",1,90632,\"xxx-xxx\",\"750 ML\",1,\"zzzz-zzzz\",13662,\"2016-12-31\",\"2016-12-31\",\"2016-12-31\",\"2016-12-31\",6,4,24,1]\n",
    "datos_new_data6=[\"1_HARDERSFIELD_906632\",1,90632,\"xxx-xxx\",\"750 ML\",5,50,10,\"2016-12-31\",750,1,0.1,1,\"zzzz-zzzz\"]"
   ]
  },
  {
   "cell_type": "code",
   "execution_count": 43,
   "id": "6f925183-1b77-4060-8238-c145b54f44be",
   "metadata": {},
   "outputs": [
    {
     "name": "stdout",
     "output_type": "stream",
     "text": [
      "✅ Fila insertada correctamente con DataFrame\n",
      "✅ Fila insertada correctamente con DataFrame\n",
      "✅ Fila insertada correctamente con DataFrame\n",
      "✅ Fila insertada correctamente con DataFrame\n",
      "✅ Fila insertada correctamente con DataFrame\n",
      "✅ Fila insertada correctamente con DataFrame\n"
     ]
    }
   ],
   "source": [
    "#CARGAR DATOS A BIG QUERY\n",
    "cargar_datos_una_tabla(\"soy-henry-459003\",\"andes_insight\",\"Productos\",datos_new_data1)\n",
    "cargar_datos_una_tabla(\"soy-henry-459003\",\"andes_insight\", \"Inventario_incial\",datos_new_data2)\n",
    "cargar_datos_una_tabla(\"soy-henry-459003\",\"andes_insight\",\"Inventario_final\",datos_new_data3)\n",
    "cargar_datos_una_tabla(\"soy-henry-459003\",\"andes_insight\",\"Compras\",datos_new_data4)\n",
    "cargar_datos_una_tabla(\"soy-henry-459003\",\"andes_insight\", \"Detalle_compras\",datos_new_data5)\n",
    "cargar_datos_una_tabla(\"soy-henry-459003\",\"andes_insight\",\"Ventas\", datos_new_data6)"
   ]
  },
  {
   "cell_type": "code",
   "execution_count": 73,
   "id": "b1bf4e17-fad7-4a1e-92be-dd1cb58ae768",
   "metadata": {},
   "outputs": [
    {
     "name": "stdout",
     "output_type": "stream",
     "text": [
      "🔎 Los nuevos datos en la tabla 'Productos' son:\n",
      "   Brand Description  Price    Size Volume  Classification  PurchasePrice  \\\n",
      "0  90632     xxx-xxx   10.0  750 ml    750               1            6.0   \n",
      "1  90632     xxx-xxx   10.0  750 ml    750               1            6.0   \n",
      "2  90632     xxx-xxx   10.0  750 ml    750               1            6.0   \n",
      "\n",
      "   VendorNumber VendorName  \n",
      "0             1  zzzz-zzzz  \n",
      "1             1  zzzz-zzzz  \n",
      "2             1  zzzz-zzzz  \n",
      "----------------------------------\n",
      "🔎 Los nuevos datos en la tabla 'Inventario_incial' son:\n",
      "             InventoryId  Store          City  Brand Description    Size  \\\n",
      "0  1_HARDERSFIELD_906632      1  HARDERSFIELD  90632     xxx-xxx  750 ML   \n",
      "1  1_HARDERSFIELD_906632      1  HARDERSFIELD  90632     xxx-xxx  750 ML   \n",
      "2  1_HARDERSFIELD_906632      1  HARDERSFIELD  90632     xxx-xxx  750 ML   \n",
      "\n",
      "   onHand  Price  startDate  \n",
      "0       4     10 2016-01-01  \n",
      "1       4     10 2016-01-01  \n",
      "2       4     10 2016-01-01  \n",
      "----------------------------------\n",
      "🔎 Los nuevos datos en la tabla 'Inventario_final' son:\n",
      "             InventoryId  Store          City  Brand Description    Size  \\\n",
      "0  1_HARDERSFIELD_906632      1  HARDERSFIELD  90632     xxx-xxx  750 ML   \n",
      "1  1_HARDERSFIELD_906632      1  HARDERSFIELD  90632     xxx-xxx  750 ML   \n",
      "2  1_HARDERSFIELD_906632      1  HARDERSFIELD  90632     xxx-xxx  750 ML   \n",
      "\n",
      "   onHand  Price     endDate  \n",
      "0       3   10.0  2016-12-31  \n",
      "1       3   10.0  2016-12-31  \n",
      "2       3   10.0  2016-12-31  \n",
      "----------------------------------\n",
      "🔎 Los nuevos datos en la tabla 'Compras' son:\n",
      "   VendorNumber VendorName InvoiceDate  PONumber      PODate     PayDate  \\\n",
      "0             1  zzzz-zzzz  2016-12-31     13662  2016-12-31  2016-12-31   \n",
      "1             1  zzzz-zzzz  2016-12-31     13662  2016-12-31  2016-12-31   \n",
      "2             1  zzzz-zzzz  2016-12-31     13662  2016-12-31  2016-12-31   \n",
      "\n",
      "   Quantity  Dollars  Freight Approval  \n",
      "0         4     24.0      0.1        1  \n",
      "1         4     24.0      0.1        1  \n",
      "2         4     24.0      0.1        1  \n",
      "----------------------------------\n",
      "🔎 Los nuevos datos en la tabla 'Detalle_compras' son:\n",
      "             InventoryId  Store  Brand Description    Size  VendorNumber  \\\n",
      "0  1_HARDERSFIELD_906632      1  90632     xxx-xxx  750 ML             1   \n",
      "1  1_HARDERSFIELD_906632      1  90632     xxx-xxx  750 ML             1   \n",
      "2  1_HARDERSFIELD_906632      1  90632     xxx-xxx  750 ML             1   \n",
      "\n",
      "  VendorName  PONumber      PODate ReceivingDate InvoiceDate     PayDate  \\\n",
      "0  zzzz-zzzz     13662  2016-12-31    2016-12-31  2016-12-31  2016-12-31   \n",
      "1  zzzz-zzzz     13662  2016-12-31    2016-12-31  2016-12-31  2016-12-31   \n",
      "2  zzzz-zzzz     13662  2016-12-31    2016-12-31  2016-12-31  2016-12-31   \n",
      "\n",
      "   PurchasePrice  Quantity  Dollars  Classification  \n",
      "0            6.0         4     24.0               1  \n",
      "1            6.0         4     24.0               1  \n",
      "2            6.0         4     24.0               1  \n",
      "----------------------------------\n",
      "🔎 Los nuevos datos en la tabla 'Ventas' son:\n",
      "             InventoryId  Store  Brand Description    Size  SalesQuantity  \\\n",
      "0  1_HARDERSFIELD_906632      1  90632     xxx-xxx  750 ML              5   \n",
      "1  1_HARDERSFIELD_906632      1  90632     xxx-xxx  750 ML              5   \n",
      "2  1_HARDERSFIELD_906632      1  90632     xxx-xxx  750 ML              5   \n",
      "\n",
      "   SalesDollars  SalesPrice   SalesDate  Volume  Classification  ExciseTax  \\\n",
      "0          50.0        10.0  2016-12-31     750               1        0.1   \n",
      "1          50.0        10.0  2016-12-31     750               1        0.1   \n",
      "2          50.0        10.0  2016-12-31     750               1        0.1   \n",
      "\n",
      "   VendorNo VendorName  \n",
      "0         1  zzzz-zzzz  \n",
      "1         1  zzzz-zzzz  \n",
      "2         1  zzzz-zzzz  \n",
      "----------------------------------\n"
     ]
    }
   ],
   "source": [
    "# CONFIRMAR CARGA DE DATOS\n",
    "confimar_nuevos_datos_cargados(\"soy-henry-459003\",\"andes_insight\",\"Productos\",\"Brand\",90632)\n",
    "confimar_nuevos_datos_cargados(\"soy-henry-459003\",\"andes_insight\",\"Inventario_incial\",\"Brand\",90632)\n",
    "confimar_nuevos_datos_cargados(\"soy-henry-459003\",\"andes_insight\",\"Inventario_final\",\"Brand\",90632)\n",
    "confimar_nuevos_datos_cargados(\"soy-henry-459003\",\"andes_insight\",\"Compras\",\"PONumber\",13662)\n",
    "confimar_nuevos_datos_cargados(\"soy-henry-459003\",\"andes_insight\",\"Detalle_compras\",\"Brand\",90632)\n",
    "confimar_nuevos_datos_cargados(\"soy-henry-459003\",\"andes_insight\",\"Ventas\",\"Brand\",90632)"
   ]
  },
  {
   "cell_type": "code",
   "execution_count": 81,
   "id": "bdbbb8f0-8873-4619-b998-45978f9b6afe",
   "metadata": {},
   "outputs": [
    {
     "name": "stdout",
     "output_type": "stream",
     "text": [
      "✅ Se eliminaron las filas con Brand = 90632 en la tabla Productos\n",
      "✅ Se eliminaron las filas con Brand = 90632 en la tabla Inventario_incial\n",
      "✅ Se eliminaron las filas con Brand = 90632 en la tabla Inventario_final\n",
      "✅ Se eliminaron las filas con Brand = 90632 en la tabla Detalle_compras\n",
      "✅ Se eliminaron las filas con Brand = 90632 en la tabla Ventas\n",
      "✅ Se eliminaron las filas con PONumber = 13662 en la tabla Compras\n"
     ]
    }
   ],
   "source": [
    "#ELIMINAR DATOS\n",
    "eliminar_datos_cargados_por_columna(\"soy-henry-459003\", \"andes_insight\",\"Productos\",\"Brand\",90632)\n",
    "eliminar_datos_cargados_por_columna(\"soy-henry-459003\", \"andes_insight\",\"Inventario_incial\",\"Brand\",90632)\n",
    "eliminar_datos_cargados_por_columna(\"soy-henry-459003\", \"andes_insight\",\"Inventario_final\",\"Brand\",90632)\n",
    "eliminar_datos_cargados_por_columna(\"soy-henry-459003\", \"andes_insight\",\"Detalle_compras\",\"Brand\",90632)\n",
    "eliminar_datos_cargados_por_columna(\"soy-henry-459003\", \"andes_insight\",\"Ventas\",\"Brand\",90632)\n",
    "eliminar_datos_cargados_por_columna(\"soy-henry-459003\", \"andes_insight\",\"Compras\",\"PONumber\",13662)"
   ]
  },
  {
   "cell_type": "code",
   "execution_count": 83,
   "id": "20c56eb4-4818-495f-b064-8f863ed966e3",
   "metadata": {},
   "outputs": [
    {
     "name": "stdout",
     "output_type": "stream",
     "text": [
      "🔎 Los nuevos datos en la tabla 'Productos' son:\n",
      "⚠️ No se encontraron datos nuevos.\n",
      "\n",
      "----------------------------------\n",
      "🔎 Los nuevos datos en la tabla 'Inventario_incial' son:\n",
      "⚠️ No se encontraron datos nuevos.\n",
      "\n",
      "----------------------------------\n",
      "🔎 Los nuevos datos en la tabla 'Inventario_final' son:\n",
      "⚠️ No se encontraron datos nuevos.\n",
      "\n",
      "----------------------------------\n",
      "🔎 Los nuevos datos en la tabla 'Compras' son:\n",
      "⚠️ No se encontraron datos nuevos.\n",
      "\n",
      "----------------------------------\n",
      "🔎 Los nuevos datos en la tabla 'Detalle_compras' son:\n",
      "⚠️ No se encontraron datos nuevos.\n",
      "\n",
      "----------------------------------\n",
      "🔎 Los nuevos datos en la tabla 'Ventas' son:\n",
      "⚠️ No se encontraron datos nuevos.\n",
      "\n",
      "----------------------------------\n"
     ]
    }
   ],
   "source": [
    "# CONFIRMAR QUE LOS DATOS HAN SIDO ELIMINADOS\n",
    "confimar_nuevos_datos_cargados(\"soy-henry-459003\",\"andes_insight\",\"Productos\",\"Brand\",906632)\n",
    "confimar_nuevos_datos_cargados(\"soy-henry-459003\",\"andes_insight\",\"Inventario_incial\",\"Brand\",90632)\n",
    "confimar_nuevos_datos_cargados(\"soy-henry-459003\",\"andes_insight\",\"Inventario_final\",\"Brand\",90632)\n",
    "confimar_nuevos_datos_cargados(\"soy-henry-459003\",\"andes_insight\",\"Compras\",\"PONumber\",13662)\n",
    "confimar_nuevos_datos_cargados(\"soy-henry-459003\",\"andes_insight\",\"Detalle_compras\",\"Brand\",90632)\n",
    "confimar_nuevos_datos_cargados(\"soy-henry-459003\",\"andes_insight\",\"Ventas\",\"Brand\",90632)"
   ]
  },
  {
   "cell_type": "code",
   "execution_count": null,
   "id": "322fc80e-372b-4736-892b-4a0ddc8ffc59",
   "metadata": {},
   "outputs": [],
   "source": [
    "# FUNCIONES"
   ]
  },
  {
   "cell_type": "code",
   "execution_count": 41,
   "id": "8d955a9b-fdb7-4987-aadf-a02d51598c34",
   "metadata": {},
   "outputs": [
    {
     "name": "stdout",
     "output_type": "stream",
     "text": [
      "✅ Dataset: andes_insight\n"
     ]
    }
   ],
   "source": [
    "#verificar si hay anclaje con Bigquery\n",
    "from google.cloud import bigquery\n",
    "    \n",
    "# Crear cliente apuntando al proyecto compartido\n",
    "client2 = bigquery.Client(project=\"soy-henry-459003\")\n",
    "    \n",
    "# Verificar conexión\n",
    "datasets = list(client2.list_datasets(project=\"soy-henry-459003\"))\n",
    "if datasets:\n",
    "    for ds in datasets:\n",
    "        print(f\"✅ Dataset: {ds.dataset_id}\")"
   ]
  },
  {
   "cell_type": "code",
   "execution_count": 39,
   "id": "909b759b-6357-480a-85a3-7f36cdc28b21",
   "metadata": {},
   "outputs": [],
   "source": [
    "def listar_tablas_sql(proyecto,dataset):\n",
    "    tablass=[]\n",
    "    client2 = bigquery.Client(project=\"soy-henry-459003\")\n",
    "    dataset_id = proyecto + \".\" + dataset\n",
    "    try:\n",
    "        tablas = list(client2.list_tables(dataset_id))\n",
    "        if tablas:\n",
    "            #print(f\"Tablas en el dataset {dataset_id}:\")\n",
    "            for tabla in tablas:\n",
    "                #print(f\"- {tabla.table_id}\")\n",
    "                tablass.append(tabla.table_id)\n",
    "        else:\n",
    "            print(f\"⚠️ No hay tablas en el dataset {dataset_id}.\")\n",
    "    except Exception as e:\n",
    "        print(\"❌ Error al listar tablas:\")\n",
    "        print(e) \n",
    "    return tablass    "
   ]
  },
  {
   "cell_type": "code",
   "execution_count": 37,
   "id": "def81961-2b2f-4453-befd-7382e1530b75",
   "metadata": {},
   "outputs": [],
   "source": [
    "def cargar_datos_una_tabla(proyecto,dataset,tabla_BQ,datos_new):\n",
    "    client2 = bigquery.Client(project=\"soy-henry-459003\")\n",
    "    tabla_destino= proyecto + \".\" + dataset +  \".\" + tabla_BQ\n",
    "    # Obtener el esquema de la tabla\n",
    "    tabla = client2.get_table(tabla_destino)\n",
    "    # Extraer nombres de columnas\n",
    "    columnas = [campo.name for campo in tabla.schema]\n",
    "    datos_nuevos=datos_new\n",
    "    # Crear el DataFrame\n",
    "    # Si es una sola fila (lista simple), envolvemos en una lista\n",
    "    if isinstance(datos_new[0], list):\n",
    "        df = pd.DataFrame(datos_new, columns=columnas)\n",
    "    else:\n",
    "        df = pd.DataFrame([datos_new], columns=columnas)\n",
    "    for col in df.columns:\n",
    "        if df[col].dtype == \"object\":\n",
    "            # Intentar convertir a datetime\n",
    "            try:\n",
    "                df[col] = pd.to_datetime(df[col], errors=\"raise\")\n",
    "                    #print(f\"🕓 Columna '{col}' convertida a datetime\")\n",
    "            except:\n",
    "                # Si falla, lo pasamos a string\n",
    "                 df[col] = df[col].astype(str)\n",
    "                #print(f\"🔤 Columna '{col}' convertida a string\")\n",
    "        elif str(df[col].dtype) == \"Int64\":  # nullable int\n",
    "            df[col] = pd.to_numeric(df[col], errors=\"coerce\").astype(\"float64\")\n",
    "        \n",
    "    job_config = bigquery.LoadJobConfig(\n",
    "        write_disposition=\"WRITE_APPEND\",  # Agrega sin borrar lo anterior\n",
    "        autodetect=True\n",
    "    )\n",
    "        \n",
    "    job = client2.load_table_from_dataframe(df, tabla_destino, job_config=job_config)\n",
    "    job.result()\n",
    "    print(\"✅ Fila insertada correctamente con DataFrame\")"
   ]
  },
  {
   "cell_type": "code",
   "execution_count": 35,
   "id": "fd2d0bb6-ce11-470f-beb4-176d3359b13a",
   "metadata": {},
   "outputs": [],
   "source": [
    "def confimar_nuevos_datos_cargados(proyecto, dataset,tabla_BQ,columna,dato):\n",
    "    client2 = bigquery.Client(project=\"soy-henry-459003\")\n",
    "    tabla_id = f\"{proyecto}.{dataset}.{tabla_BQ}\"\n",
    "    query = f\"SELECT * FROM `{tabla_id}` WHERE {columna} = {dato}\"\n",
    "\n",
    "    print(f\"🔎 Los nuevos datos en la tabla '{tabla_BQ}' son:\")\n",
    "    \n",
    "    nuevos_datos = client2.query(query)\n",
    "    df_nuevos_datos = nuevos_datos.result().to_dataframe()\n",
    "    \n",
    "    if not df_nuevos_datos.empty:\n",
    "        print(df_nuevos_datos)\n",
    "    else:\n",
    "        print(\"⚠️ No se encontraron datos nuevos.\\n\")\n",
    "    print(\"----------------------------------\")   "
   ]
  },
  {
   "cell_type": "code",
   "execution_count": 33,
   "id": "56e31c32-9766-4afe-a386-59bbfd134ce9",
   "metadata": {},
   "outputs": [],
   "source": [
    "def eliminar_datos_cargados_por_columna(proyecto, dataset, tabla_BQ, columna, dato):\n",
    "    client2 = bigquery.Client(project=\"soy-henry-459003\")\n",
    "    tabla_id = f\"{proyecto}.{dataset}.{tabla_BQ}\"\n",
    "\n",
    "    # Obtener el esquema para determinar el tipo de la columna\n",
    "    esquema = client2.get_table(tabla_id).schema\n",
    "    tipo_columna = next((campo.field_type for campo in esquema if campo.name.lower() == columna.lower()), None)\n",
    "\n",
    "    if tipo_columna is None:\n",
    "        print(f\"❌ La columna '{columna}' no existe en la tabla '{tabla_BQ}'\")\n",
    "        return\n",
    "\n",
    "    # Mapear el tipo BigQuery a tipos válidos para ScalarQueryParameter\n",
    "    tipo_parametro = {\n",
    "        \"STRING\": \"STRING\",\n",
    "        \"INTEGER\": \"INT64\",\n",
    "        \"INT64\": \"INT64\",\n",
    "        \"FLOAT\": \"FLOAT64\",\n",
    "        \"NUMERIC\": \"NUMERIC\",\n",
    "        \"BOOLEAN\": \"BOOL\",\n",
    "        \"BOOL\": \"BOOL\"\n",
    "    }.get(tipo_columna.upper(), \"STRING\")\n",
    "\n",
    "    # Crear la consulta que excluye las filas con ese valor\n",
    "    query = f\"\"\"\n",
    "    CREATE OR REPLACE TABLE `{tabla_id}` AS\n",
    "    WITH temp AS (\n",
    "        SELECT * FROM `{tabla_id}`\n",
    "        WHERE {columna} != @valor\n",
    "    )\n",
    "    SELECT * FROM temp\n",
    "    \"\"\"\n",
    "\n",
    "    job_config = bigquery.QueryJobConfig(\n",
    "        query_parameters=[\n",
    "            bigquery.ScalarQueryParameter(\"valor\", tipo_parametro, dato)\n",
    "        ]\n",
    "    )\n",
    "\n",
    "    job = client2.query(query, job_config=job_config)\n",
    "    job.result()\n",
    "    print(f\"✅ Se eliminaron las filas con {columna} = {dato} en la tabla {tabla_BQ}\")\n"
   ]
  },
  {
   "cell_type": "code",
   "execution_count": null,
   "id": "9570d73c-f8ae-41de-b436-c51622f85a79",
   "metadata": {},
   "outputs": [],
   "source": []
  }
 ],
 "metadata": {
  "kernelspec": {
   "display_name": "Python 3 (ipykernel)",
   "language": "python",
   "name": "python3"
  },
  "language_info": {
   "codemirror_mode": {
    "name": "ipython",
    "version": 3
   },
   "file_extension": ".py",
   "mimetype": "text/x-python",
   "name": "python",
   "nbconvert_exporter": "python",
   "pygments_lexer": "ipython3",
   "version": "3.12.7"
  }
 },
 "nbformat": 4,
 "nbformat_minor": 5
}
